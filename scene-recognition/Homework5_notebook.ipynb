{
  "cells": [
    {
      "cell_type": "markdown",
      "metadata": {
        "id": "mtvt9ICj-Pzd"
      },
      "source": [
        "# **Homework 5: Convolutional Neural Networks**\n",
        "\n",
        "---"
      ]
    },
    {
      "cell_type": "markdown",
      "metadata": {
        "id": "8T5_FovLIMrj"
      },
      "source": [
        "## **Setup**"
      ]
    },
    {
      "cell_type": "markdown",
      "metadata": {
        "id": "blqZxMe3kSU_"
      },
      "source": [
        "1. Make sure your latest code is pushed to github.com\n",
        "2. Run the cell below\n",
        "  *   When the script asks for the location, click the cursor and press enter\n",
        "  *   Leave the password field blank\n",
        "\n"
      ]
    },
    {
      "cell_type": "code",
      "execution_count": null,
      "metadata": {
        "id": "I1nTcPUxcz36"
      },
      "outputs": [],
      "source": [
        "!ssh-keygen -t rsa\n",
        "!ssh-keyscan -t rsa github.com >> ~/.ssh/known_hosts\n",
        "!clear\n",
        "!echo \"PUBLIC KEY: (for github.com)\"\n",
        "!cat /root/.ssh/id_rsa.pub"
      ]
    },
    {
      "cell_type": "markdown",
      "metadata": {
        "id": "Y8XJeOF6ihxs"
      },
      "source": [
        "Follow these steps before proceeding:\n",
        "\n",
        "1.   Go to https://github.com/settings/keys and login if necessary\n",
        "2.   Click the green \"New SSH Key\" button\n",
        "3. Choose any title\n",
        "4. Copy the public key from the cell above\n",
        "5. Paste the key into the \"key\" text box and click \"Add SSH key\"\n",
        "3. Replace **[GITHUBUSERNAME]** with your GitHub username\n",
        "\n",
        "\n"
      ]
    },
    {
      "cell_type": "code",
      "execution_count": null,
      "metadata": {
        "id": "Ia2CRSzTObA3"
      },
      "outputs": [],
      "source": [
        "!git clone git@github.com:BrownCSCI1430/homework5_cnns-[GITHUBUSERNAME].git\n",
        "%cd homework5_cnns-[GITHUBUSERNAME]"
      ]
    },
    {
      "cell_type": "markdown",
      "metadata": {
        "id": "yb1ead5oTA4j"
      },
      "source": [
        "We can now install the necessary components."
      ]
    },
    {
      "cell_type": "code",
      "execution_count": null,
      "metadata": {
        "id": "85EGz_FZH434"
      },
      "outputs": [],
      "source": [
        "import tensorflow as tf\n",
        "from tensorflow.keras.layers import \\\n",
        "    Conv2D, MaxPool2D, Dropout, Flatten, Dense"
      ]
    },
    {
      "cell_type": "code",
      "execution_count": null,
      "metadata": {
        "id": "O1jkvao_L68C"
      },
      "outputs": [],
      "source": [
        "!pip install lime"
      ]
    },
    {
      "cell_type": "markdown",
      "metadata": {
        "id": "mvfht1-w-35H"
      },
      "source": [
        "Next, we can download the weights for the VGG model."
      ]
    },
    {
      "cell_type": "code",
      "execution_count": null,
      "metadata": {
        "id": "k5rkcA4eDD9o"
      },
      "outputs": [],
      "source": [
        "!wget \"https://cs.brown.edu/courses/csci1430/proj4/vgg16_imagenet.h5\""
      ]
    },
    {
      "cell_type": "markdown",
      "metadata": {
        "id": "neOh6Aqppzoz"
      },
      "source": [
        "## **Change Colab's Runtime**\n",
        "\n",
        "The reason we are using Colab is to speed up training times. By default, Colab doesn't use a hardware accelerator. We will be enabling the GPU accelerator to speed up training\n",
        "\n",
        "\n",
        "\n",
        "1.   Click the runtime tab above\n",
        "2.   Click \"Change runtime type\"\n",
        "3. Select \"GPU\" under \"Hardware accelerator\"\n",
        "4. Click Save\n",
        "\n",
        "## OR (Optional): \n",
        "\n",
        "Right now, if you leave your computer idle for a while, you will lose your session. If you would like a persistent GPU runtime hosted on Google Cloud Platform, follow this tutorial:\n",
        "\n",
        "https://browncsci1430.github.io/webpage/resources/gcp_guide/\n",
        "\n"
      ]
    },
    {
      "cell_type": "markdown",
      "metadata": {
        "id": "2hASqy75_Sk7"
      },
      "source": [
        "## **Running your model:**"
      ]
    },
    {
      "cell_type": "code",
      "execution_count": null,
      "metadata": {
        "id": "RF1J5KDdTMHX"
      },
      "outputs": [],
      "source": [
        "%cd code"
      ]
    },
    {
      "cell_type": "markdown",
      "metadata": {
        "id": "Pj_0i8BiIRQi"
      },
      "source": [
        "**Run Task 1:**"
      ]
    },
    {
      "cell_type": "code",
      "execution_count": null,
      "metadata": {
        "id": "aE8BEyNf_jzL"
      },
      "outputs": [],
      "source": [
        "!python run.py --task 1"
      ]
    },
    {
      "cell_type": "markdown",
      "source": [
        "**View Tensorboard Logs**"
      ],
      "metadata": {
        "id": "IBOR9JZM2Tej"
      }
    },
    {
      "cell_type": "code",
      "source": [
        "%load_ext tensorboard\n",
        "%tensorboard --logdir logs"
      ],
      "metadata": {
        "id": "Wt1-9hiB2XZU"
      },
      "execution_count": null,
      "outputs": []
    },
    {
      "cell_type": "markdown",
      "metadata": {
        "id": "AR8qAG-8sb5U"
      },
      "source": [
        "### **Choose a checkpoint**"
      ]
    },
    {
      "cell_type": "markdown",
      "metadata": {
        "id": "GYIbfiKVrzDQ"
      },
      "source": [
        "**View your checkpoints and pick one from the list below**"
      ]
    },
    {
      "cell_type": "code",
      "execution_count": null,
      "metadata": {
        "id": "g24fEX4hrMws"
      },
      "outputs": [],
      "source": [
        "%ls checkpoints/your_model"
      ]
    },
    {
      "cell_type": "markdown",
      "metadata": {
        "id": "71BKRVoAsA0W"
      },
      "source": [
        "**Replace [TIMESTAMP] below with the checkpoint timestamp you've chosen and choose an epoch from the results**"
      ]
    },
    {
      "cell_type": "code",
      "execution_count": null,
      "metadata": {
        "id": "vEhL0F0CsBSg"
      },
      "outputs": [],
      "source": [
        "%ls checkpoints/your_model/[TIMESTAMP]"
      ]
    },
    {
      "cell_type": "markdown",
      "metadata": {
        "id": "loiD5x-xIeo8"
      },
      "source": [
        "To load task 1 from a checkpoint, use this command:\n",
        "\n",
        "\n",
        "*   replace [TIMESTAMP]/[MODEL_FILENAME] with  your timestamp and checkpoint file\n",
        "\n"
      ]
    },
    {
      "cell_type": "code",
      "execution_count": null,
      "metadata": {
        "id": "fUZHoSvUIeTt"
      },
      "outputs": [],
      "source": [
        "!python run.py --task 1 --load-checkpoint checkpoints/your_model/[TIMESTAMP]/[MODEL_FILENAME].h5 --evaluate\n"
      ]
    },
    {
      "cell_type": "markdown",
      "metadata": {
        "id": "cUVgV7UWshPt"
      },
      "source": [
        "### **Run Task 2**"
      ]
    },
    {
      "cell_type": "markdown",
      "metadata": {
        "id": "39IzPs6wvrga"
      },
      "source": [
        "To run Task 2, you first need to find a timestamp and model filename. Follow the steps in the \"Choose a checkpoint\" section of task 1. Once completed, fill in the TIMESTAMP and MODEL_FILENAME fields in the command below."
      ]
    },
    {
      "cell_type": "markdown",
      "metadata": {
        "id": "vUDxmxcHstIM"
      },
      "source": [
        "Next, choose an image your model falsely classified and add it to the end of the command below (replace test/Bedroom/image_0004.jpg with the path to your image)"
      ]
    },
    {
      "cell_type": "code",
      "execution_count": null,
      "metadata": {
        "id": "vk-mNdSXIrnF"
      },
      "outputs": [],
      "source": [
        "!python3 run.py --task 1 --load-checkpoint checkpoints/your_model/<TIMESTAMP>/<MODEL_FILENAME>.h5 --evaluate --lime-image test/Bedroom/image_0004.jpg"
      ]
    },
    {
      "cell_type": "markdown",
      "metadata": {
        "id": "84RFDzsTJBLN"
      },
      "source": [
        "### **Run Task 3:**"
      ]
    },
    {
      "cell_type": "code",
      "execution_count": null,
      "metadata": {
        "id": "y5hLC7I0I92b"
      },
      "outputs": [],
      "source": [
        "!python run.py --task 3"
      ]
    },
    {
      "cell_type": "markdown",
      "metadata": {
        "id": "AGTtds2tJJC9"
      },
      "source": [
        "To load task 3 from a checkpoint, find the checkpoint and model filename using the steps from the \"Choose a checkpoint\" section above. Then, fill in the TIMESTAMP and MODEL_FILENAME fields in the command below."
      ]
    },
    {
      "cell_type": "code",
      "execution_count": null,
      "metadata": {
        "id": "F9zICS7KJIy3"
      },
      "outputs": [],
      "source": [
        "!python run.py --task 3 --load-checkpoint checkpoints/your_model/<TIMESTAMP>/<MODEL_FILENAME>.h5 --evaluate"
      ]
    },
    {
      "cell_type": "markdown",
      "metadata": {
        "id": "iRKTTnP6wbkX"
      },
      "source": [
        "### **OPTIONAL:  Upload checkpoints to github**\n",
        "\n"
      ]
    },
    {
      "cell_type": "code",
      "execution_count": null,
      "metadata": {
        "id": "4IFc_SJ6wjQ8"
      },
      "outputs": [],
      "source": [
        "!git config --global user.email \"colab_bot@brown.edu\"\n",
        "!git config --global user.name \"Colab Bot\"\n",
        "!git add checkpoints/*\n",
        "!git commit -m \"uploading checkpoints from colab!\"\n",
        "!git push"
      ]
    },
    {
      "cell_type": "code",
      "source": [],
      "metadata": {
        "id": "ptZ8jLUJRnx6"
      },
      "execution_count": null,
      "outputs": []
    }
  ],
  "metadata": {
    "accelerator": "GPU",
    "colab": {
      "collapsed_sections": [],
      "provenance": []
    },
    "gpuClass": "standard",
    "kernelspec": {
      "display_name": "Python 3",
      "name": "python3"
    },
    "language_info": {
      "name": "python"
    }
  },
  "nbformat": 4,
  "nbformat_minor": 0
}
